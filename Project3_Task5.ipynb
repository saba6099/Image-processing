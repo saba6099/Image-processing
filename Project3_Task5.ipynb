{
 "cells": [
  {
   "cell_type": "code",
   "execution_count": 6,
   "metadata": {},
   "outputs": [],
   "source": [
    "import cv2\n",
    "import numpy as np\n"
   ]
  },
  {
   "cell_type": "code",
   "execution_count": 7,
   "metadata": {},
   "outputs": [],
   "source": [
    "# Read source image.\n",
    "im_src = cv2.imread('clock.jpg');\n",
    "size = im_src.shape\n",
    "   \n",
    "# Create a vector of source points.\n",
    "pts_src = np.array(\n",
    "                     [\n",
    "                        [0,0],\n",
    "                        [size[1] - 1, 0],\n",
    "                        [size[1] - 1, size[0] -1],\n",
    "                        [0, size[0] - 1 ]\n",
    "                        ],dtype=float\n",
    "                    );\n",
    "\n",
    "    \n",
    "# Read destination image\n",
    "im_dst = cv2.imread('isle.jpg');\n",
    "# Get four corners of the billboard\n",
    "    \n",
    "\n",
    "# just define the points\n",
    "pts_dst =  np.array([[215, 56],[365, 10],[364, 296],[218, 258]])\n",
    "    \n",
    "# Calculate Homography between source and destn points\n",
    "h, status = cv2.findHomography(pts_src, pts_dst);\n",
    "    \n",
    "# Warp source image\n",
    "im_temp = cv2.warpPerspective(im_src, h, (im_dst.shape[1],im_dst.shape[0]))\n",
    "\n",
    "cv2.imshow(\"Imgwarp\", im_temp);\n",
    "# Black out polygonal area in destination image.\n",
    "cv2.fillConvexPoly(im_dst, pts_dst.astype(int), 0, 16);\n",
    "cv2.imshow(\"Imgfill\", im_dst);\n",
    "\n",
    "# Add warped source image to destination image.\n",
    "im_dst = im_dst + im_temp;\n",
    "    \n",
    "# Display image.\n",
    "cv2.imshow(\"final_Image\", im_dst);\n",
    "cv2.waitKey(0);\n"
   ]
  },
  {
   "cell_type": "code",
   "execution_count": null,
   "metadata": {},
   "outputs": [],
   "source": []
  }
 ],
 "metadata": {
  "kernelspec": {
   "display_name": "Python 3",
   "language": "python",
   "name": "python3"
  },
  "language_info": {
   "codemirror_mode": {
    "name": "ipython",
    "version": 3
   },
   "file_extension": ".py",
   "mimetype": "text/x-python",
   "name": "python",
   "nbconvert_exporter": "python",
   "pygments_lexer": "ipython3",
   "version": "3.6.5"
  }
 },
 "nbformat": 4,
 "nbformat_minor": 2
}
